{
 "cells": [
  {
   "cell_type": "markdown",
   "metadata": {},
   "source": [
    "*Machine-learningdə bəzi funfksiyalar var ki onların necə işlədiyini göstərmək istəyirəm [bu linkdən nöqtə hasili və ya skalyar hasil (dot product scalar product) haqqında ətraflı öyrənə bilərsiz](https://en.wikipedia.org/wiki/Dot_product) \n",
    "   skalyar hasil haqqında qısaca deyə bilərəm ki iki vektorun vurulmasıdı və aralarında olan alfa bucağının tapılmasına deyilir bu haqda məsələyə baxaq:*\n",
    "\n",
    "* Məsələ 1. Xarici ölkələrdə səyahətdə olan adam ölkəyə qayıtdıqda\n",
    "onun cibində müəyyən miqdarda xarici valyuta qalmışdır: 500 ABŞ dolları,\n",
    "300 Avro və 100 Funtsterlinq. Səyahətdən qayıdan adamın manatla nə\n",
    "qədər pulu var?\n",
    "Həlli. Valyutanı manata çevirmək üçün x =(500, 300, 100)- «valyuta»\n",
    "vektorunu düzəldək. Tutaq ki, valyuta dəyişmə məntəqəsində məzənnələr\n",
    "aşağıdakı kimidir:\n",
    "1 ABŞ dolları – 0.98 manat\n",
    "1 Avro – 1.02 manat\n",
    "1 Britaniya funtsterlinqi – 1.5 manat\n",
    "Beləliklə, yeni bir üçölçülü vektor düzəldə bilərik:\n",
    "y = (0.98, 1.02, 1.5) \n",
    "Səyahətdən qayıdan adamın pulunu manatla tapmaq üçün x vektoru\n",
    "ilə y vektorununun skalyar hasilini hesablamaq lazımdır:\n",
    "( x , y )=(500, 300, 100) ⋅ (0.98, 1.02, 1.5)=\n",
    "=500⋅0.98+300⋅1.02 + 100⋅1.5 = 946 manat.\n",
    "Cavab: 946 manat \n",
    "\n",
    "```dot_2d() ```\n",
    "*funksiyası 2-D bu cür hesablama aparır:*\n",
    "\n",
    "``` [[1*11+2*13, 1*12+2*14],[3*11+4*13, 3*12+4*14]] ```\n",
    "\n",
    "*arxa planda bu cür işləyir:*\n",
    "```\n",
    "def dot_2d(v,w):\n",
    "    return v@w\n",
    "```\n",
    "*funksiyası 0-D bu cür hesablama aparır:*\n",
    "\n",
    "``` 5*1+6*2+7*3+8*4  ```\n",
    "*arxa planda bu cür işləyir:*\n",
    "``` def dot_sca(v, w):\n",
    "     \"\"\"v_1 * w_1 + ... + v_n * w_n\"\"\"\n",
    "     return sum(v_i * w_i for v_i, w_i in zip(v, w))```\n",
    " \n"
   ]
  },
  {
   "cell_type": "code",
   "execution_count": 1,
   "metadata": {},
   "outputs": [],
   "source": [
    "import numpy as np\n",
    "\n",
    "def dot_sca(v, w):\n",
    "    \n",
    "    return sum(v_i * w_i for v_i, w_i in zip(v, w))\n",
    "\n",
    "def dot_2d(v,w):\n",
    "    \n",
    "    return v@w\n",
    "\n",
    "def f(v, w):\n",
    "        \n",
    "    if len(v.shape) !=1 and len(w.shape) !=1:\n",
    "        f = np.array([dot_2d(v[i],w) for i in range(len(v))])        \n",
    "        return f    \n",
    "            \n",
    "    else:\n",
    "        print(dot_sca(v,w))"
   ]
  },
  {
   "cell_type": "code",
   "execution_count": 2,
   "metadata": {},
   "outputs": [
    {
     "data": {
      "text/plain": [
       "array([[37, 40],\n",
       "       [85, 92]])"
      ]
     },
     "execution_count": 2,
     "metadata": {},
     "output_type": "execute_result"
    }
   ],
   "source": [
    "import numpy as np\n",
    "a = np.array([[1,2],[3,4]])\n",
    "b = np.array([[11,12],[13,14]])\n",
    "f(a,b)"
   ]
  },
  {
   "cell_type": "code",
   "execution_count": 3,
   "metadata": {},
   "outputs": [
    {
     "name": "stdout",
     "output_type": "stream",
     "text": [
      "70\n"
     ]
    }
   ],
   "source": [
    "c = np.array([1,2,3,4])\n",
    "d = np.array([5,6,7,8])\n",
    "f(c,d)"
   ]
  },
  {
   "cell_type": "code",
   "execution_count": 4,
   "metadata": {},
   "outputs": [
    {
     "data": {
      "text/plain": [
       "array([[37, 40],\n",
       "       [85, 92]])"
      ]
     },
     "execution_count": 4,
     "metadata": {},
     "output_type": "execute_result"
    }
   ],
   "source": [
    "np.dot(a,b)"
   ]
  },
  {
   "cell_type": "code",
   "execution_count": 5,
   "metadata": {},
   "outputs": [
    {
     "data": {
      "text/plain": [
       "70"
      ]
     },
     "execution_count": 5,
     "metadata": {},
     "output_type": "execute_result"
    }
   ],
   "source": [
    "np.dot(c,d)"
   ]
  }
 ],
 "metadata": {
  "kernelspec": {
   "display_name": "Python 3",
   "language": "python",
   "name": "python3"
  },
  "language_info": {
   "codemirror_mode": {
    "name": "ipython",
    "version": 3
   },
   "file_extension": ".py",
   "mimetype": "text/x-python",
   "name": "python",
   "nbconvert_exporter": "python",
   "pygments_lexer": "ipython3",
   "version": "3.6.7"
  },
  "pycharm": {
   "stem_cell": {
    "cell_type": "raw",
    "metadata": {
     "collapsed": false
    },
    "source": []
   }
  }
 },
 "nbformat": 4,
 "nbformat_minor": 2
}
