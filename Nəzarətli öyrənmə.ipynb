{
 "cells": [
  {
   "cell_type": "markdown",
   "metadata": {},
   "source": [
    "**Nəzartli öyrətmə**-giriş dəyişkənimiz (X) olan çıxış dəyişkənimizin (Y)-in təxmin edilməsi üçün öyrəniləcən bir funksiyadır.Məlumat seti verilir yəni X-imiz və bu setdə nümunələrə uyğun çıxış dəyərləridə öyrənmə funksiyasına verilir  və bu məlumatlardan istifadə olunaraq aralarındakı əlaqələr qurulur bu əlaqələr gələcəkdə istənilən X' üçün Y' tapılmasına kömək edir._\n",
    "\n",
    "**Sinifləndirmə** -_bildiyimiz və ya bilmədiyimiz heç vaxt görmədiyimiz bir məlumatın kateqoriyalardan hansına aid olub olmadığına təxminlər edərək qərar verir.Bir şəklin üzərindən misal çəkmək istəyirəm tutalım ki iki kateqoriyamız var,it və pişik, bu şəklin bunlardan hansı birinə aid olduğunu öyrədilmiş model təxmin edir və qərar verir. Gündəlik həyatda tez tez rast gəlməyimiz bir məsələ telefonun məmim barmaq izimi və ya insanın simasın təxmin etməsi və.s ._\n",
    "\n",
    "\n",
    "_**Sinifləndirmə** metodları aşağıdakı kimi kateqoriyalara ayrılır:_\n",
    "\n",
    "> **Binary Classification (İkili Sinifləndirmə)**: _İki kateqoriyanı sinifləndirmə. Buna misal olaraq cinsiyyətin  sinifləndirilməsi (Kişi / Qadın), email Spamdı yoxsa spam deyil, pozitiv və ya neqativ və.s misal çəkmək olar._\n",
    "![Binary Classification](images/toy-binary-dataset.png \"Binary Classification\")\n",
    "\n",
    "\n",
    "> **Multi Class Classification (Çoxlu Sinif Sinifləndirmə)**: _İkidən çox kateqoriyanı sinifləndirmə.Buna misal olaraq: torpaq növlərinin sinifləndirmə, bitgi növlərinin sinifləndirmə, heyvanların sinifləndirilməsi ._\n",
    "![Multi Class Classification](images/sphx_glr_plot_pca_vs_lda_002.png \"Multi Class Classification\")\n",
    "\n",
    "> **Multi Label Classification (Çoxlu Kateqoriyaları Sinifləndirmə)**: _Bir məlumat birdən çoxlu siniflə əlaqələndirilir. Buna misal olaraq: Bir məqalə həm spor həm də insan ilə əlaqəli olabilər._\n",
    "![Multi Label Classification](images/1_of9-yDLgaUq206_sOdn1dA.png \"Multi Label Classification\")\n"
   ]
  },
  {
   "cell_type": "markdown",
   "metadata": {},
   "source": []
  }
 ],
 "metadata": {
  "kernelspec": {
   "display_name": "Python 3",
   "language": "python",
   "name": "python3"
  },
  "language_info": {
   "codemirror_mode": {
    "name": "ipython",
    "version": 3
   },
   "file_extension": ".py",
   "mimetype": "text/x-python",
   "name": "python",
   "nbconvert_exporter": "python",
   "pygments_lexer": "ipython3",
   "version": "3.6.7"
  }
 },
 "nbformat": 4,
 "nbformat_minor": 2
}
