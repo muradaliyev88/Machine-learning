{
 "cells": [
  {
   "cell_type": "markdown",
   "metadata": {},
   "source": [
    "**Nəzartli öyrətmə**  Giriş dəyişkənimiz (X) olan çıxış dəyişkənimizin (Y)-in təxmin edilməsi üçün öyrəniləcən bir funksiyadır.Məlumat seti verilir yəni X-imiz və bu setdə nümunələrə uyğun çıxış dəyərləridə öyrənmə funksiyasına verilir  və bu məlumatlardan istifadə olunaraq aralarındakı əlaqələr qurulur bu əlaqələr gələcəkdə istənilən X' üçün Y' tapılmasına kömək edir.\n",
    "\n",
    "**Sinifləndirmə** bildiyimiz və ya bilmədiyimiz heç vaxt görmədiyimiz bir məlumatın kateqoriyalardan hansına aid olub olmadığına təxminlər edərək qərar verir.Bir şəklin üzərindən misal çəkmək istəyirəm tutalım ki iki kateqoriyamız var,it və pişik, bu şəklin bunlardan hansı birinə aid olduğunu öyrədilmiş model təxmin edir və qərar verir. Gündəlik həyatda tez tez rast gəlməyimiz bir məsələ telefonun məmim barmaq izimi və ya insanın simasın təxmin etməsi və.s .\n"
   ]
  },
  {
   "cell_type": "code",
   "execution_count": null,
   "metadata": {},
   "outputs": [],
   "source": []
  }
 ],
 "metadata": {
  "kernelspec": {
   "display_name": "Python 3",
   "language": "python",
   "name": "python3"
  },
  "language_info": {
   "codemirror_mode": {
    "name": "ipython",
    "version": 3
   },
   "file_extension": ".py",
   "mimetype": "text/x-python",
   "name": "python",
   "nbconvert_exporter": "python",
   "pygments_lexer": "ipython3",
   "version": "3.6.7"
  }
 },
 "nbformat": 4,
 "nbformat_minor": 2
}
