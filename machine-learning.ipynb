{
 "cells": [
  {
   "cell_type": "markdown",
   "metadata": {},
   "source": [
    "**machine learningdə bəzi funfksiyalar var ki onların necə işlədiyini göstərmək istəyirəm**\n",
    "\n",
    "```dot() ```\n",
    "*funksiyası*"
   ]
  },
  {
   "cell_type": "markdown",
   "metadata": {},
   "source": [
    "*bu cür hesablama aparır*\n",
    "``` [[1*11+2*13, 1*12+2*14],[3*11+4*13, 3*12+4*14]] ```\n",
    "*arxa planda bu cür işləyir*\n",
    "\n",
    "``` def dot(v, w):\n",
    " \"\"\"v_1 * w_1 + ... + v_n * w_n\"\"\"\n",
    " return sum(v_i * w_i for v_i, w_i in zip(v, w))```"
   ]
  },
  {
   "cell_type": "code",
   "execution_count": null,
   "metadata": {},
   "outputs": [],
   "source": []
  }
 ],
 "metadata": {
  "kernelspec": {
   "display_name": "Python 3",
   "language": "python",
   "name": "python3"
  },
  "language_info": {
   "codemirror_mode": {
    "name": "ipython",
    "version": 3
   },
   "file_extension": ".py",
   "mimetype": "text/x-python",
   "name": "python",
   "nbconvert_exporter": "python",
   "pygments_lexer": "ipython3",
   "version": "3.6.7"
  }
 },
 "nbformat": 4,
 "nbformat_minor": 2
}
