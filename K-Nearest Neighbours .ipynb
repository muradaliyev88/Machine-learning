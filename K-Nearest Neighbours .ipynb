{
 "cells": [
  {
   "cell_type": "markdown",
   "metadata": {},
   "source": [
    "**Scikit-learn** _kitabxanasında, məlumat setini qarışdıran və onu iki hissəyə parçalayan_ `train_test_split`  _funksiyası var. Bu funksiya təlim setin məlumat etiketlərinin 75% -ni seçir , məlumatların qalan 25% -i test üçün seçir._ `train_test_split` _funksiyasını çağırmaq üçün:_"
   ]
  },
  {
   "cell_type": "code",
   "execution_count": 1,
   "metadata": {},
   "outputs": [],
   "source": [
    "from sklearn.model_selection import train_test_split"
   ]
  },
  {
   "cell_type": "markdown",
   "metadata": {},
   "source": [
    "**_İndi isə iris setimizi çağıraq_**"
   ]
  },
  {
   "cell_type": "code",
   "execution_count": 2,
   "metadata": {},
   "outputs": [],
   "source": [
    "from sklearn.datasets import load_iris\n",
    "iris_dataset = load_iris()"
   ]
  },
  {
   "cell_type": "code",
   "execution_count": 3,
   "metadata": {},
   "outputs": [],
   "source": [
    "X_train, X_test, y_train, y_test = train_test_split(iris_dataset['data'], iris_dataset['target'], random_state=0)"
   ]
  },
  {
   "cell_type": "markdown",
   "metadata": {},
   "source": [
    "_İndi isə **KNeighborsClassifier** çağırmazdan əvvəl onun haqqında məlumat verim.._ __Sinifləndirilmədə istifadə olunan bu alqoritm sinifləndirilən özəlliklərdən daha çox hansına yaxın olmasıdı.__ \n",
    "_Yaxın qonşu (KNN) çox sadə, başa düşülən, çox yönlü və ən yaxşı maşın öyrənmə alqoritmlərindən biridir. KNN, maliyyə, səhiyyə, siyasi elm, əl yazısının aşkarlanması, görüntü tanıma və video tanıma kimi müxtəlif tətbiqlərdə istifadə olunur. Misal olaraq k=3 olsun  etiketlərdən 3 elelement alınır məsafə hesabına görə daha yaxın olan elementin sinifinə aid edilir._\n",
    "![dsadsa](./images/KNN_final1_ibdm8a.webp)"
   ]
  },
  {
   "cell_type": "code",
   "execution_count": 5,
   "metadata": {},
   "outputs": [],
   "source": [
    "from sklearn.neighbors import KNeighborsClassifier #Biz burada KNN alqoritmin çağırdıq onu knn dəyişkəninə bağladıq\n",
    "knn = KNeighborsClassifier(n_neighbors=1)"
   ]
  },
  {
   "cell_type": "markdown",
   "metadata": {},
   "source": [
    "Əgər biz **KNeighborsClassifier** parametrlərinə baxsaq aşağıdakı yazılanları görərik\n",
    "\n",
    "`KNeighborsClassifier(\n",
    "    ['n_neighbors=5', \"weights='uniform'\", \"algorithm='auto'\", 'leaf_size=30', 'p=2', \"metric='minkowski'\", 'metric_params=None', 'n_jobs=None', '**kwargs'],\n",
    ")`\n",
    "\n",
    "Əgər parametrləri dəyişdirməsək o bu dəyərlərlə işləyəyəcək. Burada `n_neighbors=5` yəni tapmaq istədiyimiz məlumat ona yaxın neçə qonşuyla aralarındakı məsafə ölçülsün. Parametrlərdən `metric='minkowski` haqqında biraz danışmaq istəyirəm digərləri haqqında özünüz maraqlanıb baxa bilərsiz.\n",
    "### Minkowski məsafəsi\n",
    "\n",
    "![](./images/1_wWdhIZJd6y_v4C3Ze2tqFQ.png)\n",
    "\n",
    "**Minkowski** məsafəsi ümumiləşdirilmiş uzağlıq ölçüsüdür. Burada ümumiləşdirilmiş, iki nöqtə arasındakı məsafəni müxtəlif yollarla hesablamaq üçün yuxarıdakı formulu dəyiştirə biləcəyik. p dəyərini dəyiştirə bilər və məsafəni üç müxtəlif yolla hesablaya bilərik.\n",
    "> p = 1, Manhattan Distance\n",
    "\n",
    "> p = 2, Euclidean Distance\n",
    "\n",
    "> p = ∞, Chebychev Distance\n",
    "\n",
    "İki nöqtə arasındakı məsafəni hesablamağımız lazımdırsa, **Manhetten** məsafəsini istifadə edirik. Yuxarıda qeyd edildiyi kimi, P dəyərini 1 olaraq təyin edərək **Manhetten** məsafəsini tapmaq üçün **Minkowski** məsafə düsturundan istifadə edirik.Deyək ki, iki nöqtə arasındakı məsafəni, d- x və y ilə hesablamaq istəyirik.\n",
    "\n",
    "![](./images/1_7NHkUCylraQu2H-S5N1nhA.png)\n",
    "\n",
    "**D** məsafəsi aşağıdakı mütləq fərqdən istifadə edilərək hesablanacaq:\n",
    "\n",
    "![](./images/1_1pvCYxUipB2rK05cnU7_XQ.png)\n",
    "\n",
    "burada, n- dəyişkənlərin sayı, *xi və yi*, iki ölçülü vektor fəzasında müvafiq olaraq *x və y* vektorlarının dəyişənləridir. yəni x = (x1, x2, x3, ...) və y = (y1, y2, y3, ...). d məsafə belə hesablanacaqdır\n",
    "\n",
    "(x1 - y1) + (x2 - y2) + (x3 - y3) + … + (xn - yn).\n",
    "\n",
    "\n",
    "### Euclidean Distance:\n",
    "**Evklid** məsafəsi ən çox istifadə olunan məsafə ölçüsüdür. *P*-in dəyərini 2-yə qoyaraq **Minkowski** məsafə düsturu ilə hesablanır. Bu məsafə *'d'* formulunu aşağıdakı kimi yeniləyəcəkdir.**Evklid** məsafəsi düsturu bir müstəvidə iki nöqtə arasındakı məsafəni hesablamaq üçün istifadə edilir.\n",
    "\n",
    "![](./images/1_n6kmkzjKVTOWeXDxsx2daQ.png)\n",
    "\n",
    "**Kiçik bir haşiyədən sonra qayıdıram kodlamaya))**"
   ]
  },
  {
   "cell_type": "code",
   "execution_count": 6,
   "metadata": {},
   "outputs": [
    {
     "data": {
      "text/plain": [
       "KNeighborsClassifier(algorithm='auto', leaf_size=30, metric='minkowski',\n",
       "           metric_params=None, n_jobs=None, n_neighbors=1, p=2,\n",
       "           weights='uniform')"
      ]
     },
     "execution_count": 6,
     "metadata": {},
     "output_type": "execute_result"
    }
   ],
   "source": [
    "knn.fit(X_train, y_train)"
   ]
  },
  {
   "cell_type": "markdown",
   "metadata": {},
   "source": [
    "`fit()` metodu **knn** obyektinin özünü qaytarır (və dəyişdirir).İndi təxminimizi ala bilərik.Təsəvvür edin biz təbiətdə belə bir `[5, 2.9, 1, 0.2]` ölçülərə malik bir dənə **iris tapmışıq**. Təxmin olunanı tapmaq üçün `predict()` metodunu çağırırıq."
   ]
  },
  {
   "cell_type": "code",
   "execution_count": 9,
   "metadata": {},
   "outputs": [
    {
     "name": "stdout",
     "output_type": "stream",
     "text": [
      "Təxmin olundu: ['setosa']\n"
     ]
    }
   ],
   "source": [
    "import numpy as np\n",
    "X_new = np.array([[5, 2.9, 1, 0.2]])\n",
    "prediction = knn.predict(X_new)\n",
    "print(\"Təxmin olundu: {}\".format(iris_dataset['target_names'][prediction]))"
   ]
  },
  {
   "cell_type": "code",
   "execution_count": null,
   "metadata": {},
   "outputs": [],
   "source": []
  }
 ],
 "metadata": {
  "kernelspec": {
   "display_name": "Python 3",
   "language": "python",
   "name": "python3"
  },
  "language_info": {
   "codemirror_mode": {
    "name": "ipython",
    "version": 3
   },
   "file_extension": ".py",
   "mimetype": "text/x-python",
   "name": "python",
   "nbconvert_exporter": "python",
   "pygments_lexer": "ipython3",
   "version": "3.6.7"
  }
 },
 "nbformat": 4,
 "nbformat_minor": 2
}
