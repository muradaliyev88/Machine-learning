{
 "cells": [
  {
   "cell_type": "markdown",
   "metadata": {},
   "source": [
    "**Scikit-learn** _kitabxanasında, məlumat setini qarışdıran və onu iki hissəyə parçalayan_ `train_test_split`  _funksiyası var. Bu funksiya təlim setin məlumat etiketlərinin 75% -ni seçir , məlumatların qalan 25% -i test üçün seçir._ `train_test_split` _funksiyasını çağırmaq üçün:_"
   ]
  },
  {
   "cell_type": "code",
   "execution_count": 1,
   "metadata": {},
   "outputs": [],
   "source": [
    "from sklearn.model_selection import train_test_split"
   ]
  },
  {
   "cell_type": "markdown",
   "metadata": {},
   "source": [
    "**_İndi isə iris setimizi çağıraq_**"
   ]
  },
  {
   "cell_type": "code",
   "execution_count": 2,
   "metadata": {},
   "outputs": [],
   "source": [
    "from sklearn.datasets import load_iris\n",
    "iris_dataset = load_iris()"
   ]
  },
  {
   "cell_type": "code",
   "execution_count": 3,
   "metadata": {},
   "outputs": [],
   "source": [
    "X_train, X_test, y_train, y_test = train_test_split(iris_dataset['data'], iris_dataset['target'], random_state=0)"
   ]
  },
  {
   "cell_type": "markdown",
   "metadata": {},
   "source": [
    "_İndi isə **KNeighborsClassifier** çağırmazdan əvvəl onun haqqında məlumat verim.._ __Sinifləndirilmədə istifadə olunan bu alqoritm sinifləndirilən özəlliklərdən daha çox hansına yaxın olmasıdı.__ \n",
    "_Yaxın qonşu (KNN) çox sadə, başa düşülən, çox yönlü və ən yaxşı maşın öyrənmə alqoritmlərindən biridir. KNN, maliyyə, səhiyyə, siyasi elm, əl yazısının aşkarlanması, görüntü tanıma və video tanıma kimi müxtəlif tətbiqlərdə istifadə olunur. Misal olaraq k=3 olsun  etiketlərdən 3 elelement alınır məsafə hesabına görə daha yaxın olan elementin sinifinə aid edilir._\n",
    "![dsadsa](KNN_final1_ibdm8a.webp)"
   ]
  },
  {
   "cell_type": "code",
   "execution_count": 4,
   "metadata": {},
   "outputs": [],
   "source": [
    "from sklearn.neighbors import KNeighborsClassifier\n",
    "knn = KNeighborsClassifier(n_neighbors=1)"
   ]
  },
  {
   "cell_type": "code",
   "execution_count": null,
   "metadata": {},
   "outputs": [],
   "source": []
  }
 ],
 "metadata": {
  "kernelspec": {
   "display_name": "Python 3",
   "language": "python",
   "name": "python3"
  },
  "language_info": {
   "codemirror_mode": {
    "name": "ipython",
    "version": 3
   },
   "file_extension": ".py",
   "mimetype": "text/x-python",
   "name": "python",
   "nbconvert_exporter": "python",
   "pygments_lexer": "ipython3",
   "version": "3.6.7"
  }
 },
 "nbformat": 4,
 "nbformat_minor": 2
}
