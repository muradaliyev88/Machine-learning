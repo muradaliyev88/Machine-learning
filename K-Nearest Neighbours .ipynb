{
 "cells": [
  {
   "cell_type": "markdown",
   "metadata": {},
   "source": [
    "**Scikit-learn** _kitabxanasında, məlumat setini qarışdıran və onu iki hissəyə parçalayan_ `train_test_split`  _funksiyası var. Bu funksiya təlim setin məlumat etiketlərinin 75% -ni seçir , məlumatların qalan 25% -i test üçün seçir._ `train_test_split` _funksiyasını çağırmaq üçün:_"
   ]
  },
  {
   "cell_type": "code",
   "execution_count": 1,
   "metadata": {},
   "outputs": [],
   "source": [
    "from sklearn.model_selection import train_test_split"
   ]
  },
  {
   "cell_type": "markdown",
   "metadata": {},
   "source": [
    "**_İndi isə iris setimizi çağıraq_**"
   ]
  },
  {
   "cell_type": "code",
   "execution_count": 2,
   "metadata": {},
   "outputs": [],
   "source": [
    "from sklearn.datasets import load_iris\n",
    "iris_dataset = load_iris()"
   ]
  },
  {
   "cell_type": "code",
   "execution_count": 3,
   "metadata": {},
   "outputs": [],
   "source": [
    "X_train, X_test, y_train, y_test = train_test_split(iris_dataset['data'], iris_dataset['target'], random_state=0)"
   ]
  },
  {
   "cell_type": "markdown",
   "metadata": {},
   "source": [
    "_İndi isə **KNeighborsClassifier** çağırmazdan əvvəl onun haqqında məlumat verim.._ __Sinifləndirilmədə istifadə olunan bu alqoritm sinifləndirilən özəlliklərdən daha çox hansına yaxın olmasıdı.__ \n",
    "_Yaxın qonşu (KNN) çox sadə, başa düşülən, çox yönlü və ən yaxşı maşın öyrənmə alqoritmlərindən biridir. KNN, maliyyə, səhiyyə, siyasi elm, əl yazısının aşkarlanması, görüntü tanıma və video tanıma kimi müxtəlif tətbiqlərdə istifadə olunur. Misal olaraq k=3 olsun  etiketlərdən 3 elelement alınır məsafə hesabına görə daha yaxın olan elementin sinifinə aid edilir._\n",
    "![dsadsa](KNN_final1_ibdm8a.webp)"
   ]
  },
  {
   "cell_type": "code",
   "execution_count": 4,
   "metadata": {},
   "outputs": [],
   "source": [
    "from sklearn.neighbors import KNeighborsClassifier #Biz burada KNN alqoritmin çağırdıq onu knn dəyişkəninə bağladıq\n",
    "knn = KNeighborsClassifier(n_neighbors=5,metric=\"euclidean\")"
   ]
  },
  {
   "cell_type": "markdown",
   "metadata": {},
   "source": [
    "Əgər biz **KNeighborsClassifier** parametrlərinə baxsaq aşağıdakı yazılanları görərik\n",
    "\n",
    "`KNeighborsClassifier(\n",
    "    ['n_neighbors=5', \"weights='uniform'\", \"algorithm='auto'\", 'leaf_size=30', 'p=2', \"metric='minkowski'\", 'metric_params=None', 'n_jobs=None', '**kwargs'],\n",
    ")`\n",
    "\n",
    "Əgər parametrləri dəyişdirməsək o bu dəyərlərlə işləyəyəcək. Burada `n_neighbors=5` yəni tapmaq istədiyimiz məlumat ona yaxın neçə qonşuyla aralarındakı məsafə ölçülsün. Parametrlərdən `metric='minkowski` haqqında biraz danışmaq istəyirəm digərləri haqqında özünüz maraqlanıb baxa bilərsiz.\n",
    "### Minkowski məsafəsi\n",
    "\n",
    "![](1_wWdhIZJd6y_v4C3Ze2tqFQ.png)\n",
    "\n",
    "**Minkowski** məsafəsi ümumiləşdirilmiş uzağlıq ölçüsüdür. Burada ümumiləşdirilmiş, iki nöqtə arasındakı məsafəni müxtəlif yollarla hesablamaq üçün yuxarıdakı formulu dəyiştirə biləcəyik. p dəyərini dəyiştirə bilər və məsafəni üç müxtəlif yolla hesablaya bilərik.\n",
    "> p = 1, Manhattan Distance\n",
    "\n",
    "> p = 2, Euclidean Distance\n",
    "\n",
    "> p = ∞, Chebychev Distance\n",
    "\n",
    "İki nöqtə arasındakı məsafəni hesablamağımız lazımdırsa, **Manhetten** məsafəsini istifadə edirik. Yuxarıda qeyd edildiyi kimi, P dəyərini 1 olaraq təyin edərək **Manhetten** məsafəsini tapmaq üçün **Minkowski** məsafə düsturundan istifadə edirik.Deyək ki, iki nöqtə arasındakı məsafəni, d- x və y ilə hesablamaq istəyirik.\n",
    "\n",
    "![](1_7NHkUCylraQu2H-S5N1nhA.png)\n",
    "\n",
    "**D** məsafəsi aşağıdakı mütləq fərqdən istifadə edilərək hesablanacaq:\n",
    "\n",
    "![](1_1pvCYxUipB2rK05cnU7_XQ.png)\n",
    "\n",
    "burada, n- dəyişkənlərin sayı, *xi və yi*, iki ölçülü vektor fəzasında müvafiq olaraq *x və y* vektorlarının dəyişənləridir. yəni x = (x1, x2, x3, ...) və y = (y1, y2, y3, ...). d məsafə belə hesablanacaqdır\n",
    "\n",
    "(x1 - y1) + (x2 - y2) + (x3 - y3) + … + (xn - yn).\n",
    "\n",
    "\n",
    "### Euclidean Distance:\n",
    "**Evklid** məsafəsi ən çox istifadə olunan məsafə ölçüsüdür. *P*-in dəyərini 2-yə qoyaraq **Minkowski** məsafə düsturu ilə hesablanır. Bu məsafə *'d'* formulunu aşağıdakı kimi yeniləyəcəkdir.**Evklid** məsafəsi düsturu bir müstəvidə iki nöqtə arasındakı məsafəni hesablamaq üçün istifadə edilir.\n",
    "\n",
    "![](1_n6kmkzjKVTOWeXDxsx2daQ.png)\n",
    "\n",
    "**Kiçik bir haşiyədən sonra qayıdıram kodlamaya))**"
   ]
  },
  {
   "cell_type": "code",
   "execution_count": 5,
   "metadata": {},
   "outputs": [
    {
     "data": {
      "text/plain": [
       "KNeighborsClassifier(algorithm='auto', leaf_size=30, metric='euclidean',\n",
       "           metric_params=None, n_jobs=None, n_neighbors=5, p=2,\n",
       "           weights='uniform')"
      ]
     },
     "execution_count": 5,
     "metadata": {},
     "output_type": "execute_result"
    }
   ],
   "source": [
    "knn.fit(X_train, y_train)"
   ]
  },
  {
   "cell_type": "markdown",
   "metadata": {},
   "source": [
    "`fit()` metodu **knn** obyektinin özünü qaytarır (və dəyişdirir).İndi təxminimizi ala bilərik.Təsəvvür edin biz təbiətdə belə bir `[5, 2.9, 1, 0.2]` ölçülərə malik bir dənə **iris tapmışıq**. Təxmin olunanı tapmaq üçün `predict()` metodunu çağırırıq."
   ]
  },
  {
   "cell_type": "code",
   "execution_count": 6,
   "metadata": {},
   "outputs": [
    {
     "name": "stdout",
     "output_type": "stream",
     "text": [
      "Təxmin olundu: ['setosa']\n"
     ]
    }
   ],
   "source": [
    "import numpy as np\n",
    "X_new = np.array([[5, 2.9, 1, 0.2]])\n",
    "prediction = knn.predict(X_new)\n",
    "print(\"Təxmin olundu: {}\".format(iris_dataset['target_names'][prediction]))"
   ]
  },
  {
   "cell_type": "markdown",
   "metadata": {},
   "source": [
    "Bundan əlavə, test etdiyimiz *modelin düzgünlüyünü hesablayan* `knn.score()` metodundan istifadə edə bilərik"
   ]
  },
  {
   "cell_type": "code",
   "execution_count": 7,
   "metadata": {},
   "outputs": [
    {
     "data": {
      "text/plain": [
       "0.9736842105263158"
      ]
     },
     "execution_count": 7,
     "metadata": {},
     "output_type": "execute_result"
    }
   ],
   "source": [
    "knn.score(X_test, y_test)"
   ]
  },
  {
   "cell_type": "markdown",
   "metadata": {},
   "source": [
    "97% test setinin düzgünlüyünü göstərir."
   ]
  },
  {
   "cell_type": "markdown",
   "metadata": {},
   "source": [
    "![](rrr.jpg)\n",
    "\n",
    "\n",
    "# Həqiqətəndə görəsən arxa planda K-NN alqoritmi necə işləyir???\n",
    "**Bir neçə gün axtarıb araşdırdım Googledən soruşdum bir iki kitab oxuyandan sonra isə ortalığa belə bir kodlar dökülməyə başladı əvvəlcə** `dot()` **funksiyası daha sonra** `distance()` **funksiyaların yazdım**.**Distans funksiyası haqqında danışmışdıq onu kod halına bu cür gətirdik** `dot()` **funksiyası haqqında**\n",
    "[bura baxa bilərsiz](https://github.com/muradaliyev88/Machine-learning/blob/master/backend/dot.ipynb)"
   ]
  },
  {
   "cell_type": "code",
   "execution_count": 8,
   "metadata": {},
   "outputs": [
    {
     "name": "stdout",
     "output_type": "stream",
     "text": [
      "[2 1 0 2 0 2 0 1 1 1 2 1 1 1 1 0 1 1 0 0 2 1 0 0 2 0 0 1 1 0 2 1 0 2 2 1 0\n",
      " 2]\n"
     ]
    },
    {
     "ename": "NameError",
     "evalue": "name 'accuracy_score' is not defined",
     "output_type": "error",
     "traceback": [
      "\u001b[0;31m---------------------------------------------------------------------------\u001b[0m",
      "\u001b[0;31mNameError\u001b[0m                                 Traceback (most recent call last)",
      "\u001b[0;32m<ipython-input-8-d64dea5093c8>\u001b[0m in \u001b[0;36m<module>\u001b[0;34m\u001b[0m\n\u001b[1;32m     54\u001b[0m \u001b[0mprint\u001b[0m\u001b[0;34m(\u001b[0m\u001b[0mpredictions\u001b[0m\u001b[0;34m)\u001b[0m\u001b[0;34m\u001b[0m\u001b[0;34m\u001b[0m\u001b[0m\n\u001b[1;32m     55\u001b[0m \u001b[0;34m\u001b[0m\u001b[0m\n\u001b[0;32m---> 56\u001b[0;31m \u001b[0maccuracy\u001b[0m \u001b[0;34m=\u001b[0m \u001b[0maccuracy_score\u001b[0m\u001b[0;34m(\u001b[0m\u001b[0my_test\u001b[0m\u001b[0;34m,\u001b[0m \u001b[0mpredictions\u001b[0m\u001b[0;34m)\u001b[0m\u001b[0;34m\u001b[0m\u001b[0;34m\u001b[0m\u001b[0m\n\u001b[0m\u001b[1;32m     57\u001b[0m \u001b[0mprint\u001b[0m\u001b[0;34m(\u001b[0m\u001b[0;34m\"test setinin düzgünlüyü {}\"\u001b[0m\u001b[0;34m.\u001b[0m\u001b[0mformat\u001b[0m\u001b[0;34m(\u001b[0m\u001b[0;36m100\u001b[0m\u001b[0;34m*\u001b[0m\u001b[0maccuracy\u001b[0m\u001b[0;34m)\u001b[0m\u001b[0;34m)\u001b[0m\u001b[0;34m\u001b[0m\u001b[0;34m\u001b[0m\u001b[0m\n",
      "\u001b[0;31mNameError\u001b[0m: name 'accuracy_score' is not defined"
     ]
    }
   ],
   "source": [
    "def dot_sca(v, w):\n",
    "    \n",
    "    return sum(v_i * w_i for v_i, w_i in zip(v, w))\n",
    "\n",
    "def dot_2d(v,w):\n",
    "    \n",
    "    return v@w\n",
    "\n",
    "def dot(v, w):\n",
    "        \n",
    "    if len(v.shape) !=1 and len(w.shape) !=1:\n",
    "        f = np.array([dot_2d(v[i],w) for i in range(len(v))])        \n",
    "        return f    \n",
    "            \n",
    "    else:\n",
    "        print(dot_sca(v,w))\n",
    "\n",
    "def distance(v, w):\n",
    "    \n",
    "    if len(v.shape) !=1 and len(w.shape) !=1:\n",
    "        f = np.array([v_n - w_n for v_n,w_n in zip(v,w)])        \n",
    "        d = dot(f,f)\n",
    "        return repr(np.sqrt(d))\n",
    "            \n",
    "    else:\n",
    "        g = np.array([v_n - w_n for v_n,w_n in zip(v,w)])\n",
    "        return repr(np.sqrt(dot_sca(g,g)))\n",
    "    \n",
    "def fit(X_train, y_train):    \n",
    "    return\n",
    "\n",
    "def k_nearest_neighbor(X_train, y_train, X_test, k):    \n",
    "    fit(X_train, y_train)    \n",
    "    predictions = []\n",
    "    for i in range(len(X_test)):\n",
    "        predictions.append(predict(k,X_train,X_test[i, :], y_train  ))\n",
    "    return np.asarray(predictions)    \n",
    "    \n",
    "from collections import Counter\n",
    "def predict(k, data, test,label):\n",
    "    distances = []\n",
    "    targets = []  \n",
    "    for i in range(len(data)):\n",
    "        dist = (distance(test,data[i,:]))       \n",
    "        distances.append((dist,i))\n",
    "    distances = sorted(distances)\n",
    "    for i in range(k):\n",
    "        index = distances[i][1]\n",
    "        targets.append(y_train[index])    \n",
    "    return Counter(targets).most_common(1)[0][0]\n",
    "\n",
    "predict(1,X_train,X_test ,y_train)\n",
    "predictions = k_nearest_neighbor(X_train, y_train, X_test, 1)\n",
    "print(predictions)\n",
    "from sklearn.metrics import accuracy_score\n",
    "\n",
    "accuracy = accuracy_score(y_test, predictions)\n",
    "print(\"test setinin düzgünlüyü {}\".format(100*accuracy))"
   ]
  },
  {
   "cell_type": "code",
   "execution_count": null,
   "metadata": {},
   "outputs": [],
   "source": []
  }
 ],
 "metadata": {
  "kernelspec": {
   "display_name": "Python 3",
   "language": "python",
   "name": "python3"
  },
  "language_info": {
   "codemirror_mode": {
    "name": "ipython",
    "version": 3
   },
   "file_extension": ".py",
   "mimetype": "text/x-python",
   "name": "python",
   "nbconvert_exporter": "python",
   "pygments_lexer": "ipython3",
   "version": "3.6.7"
  }
 },
 "nbformat": 4,
 "nbformat_minor": 2
}
